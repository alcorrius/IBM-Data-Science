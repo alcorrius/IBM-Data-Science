{
 "cells": [
  {
   "cell_type": "markdown",
   "id": "20e2188f-15bb-446f-888b-208c02015da1",
   "metadata": {
    "tags": []
   },
   "source": [
    "# Data Science Tools and Ecosystem"
   ]
  },
  {
   "cell_type": "markdown",
   "id": "e710843e-d671-43eb-b467-cc8cb4a6c7a6",
   "metadata": {},
   "source": [
    "In this notebook, Data Science Tools and Ecosystem are summarized."
   ]
  },
  {
   "cell_type": "markdown",
   "id": "4c62baf4-32a7-47b8-ae37-7f30b5a3a54f",
   "metadata": {
    "tags": []
   },
   "source": [
    "**Objectives:**\n",
    "* List popular languages for Data Science\n",
    "* List popular libraries for Data Science\n",
    "* List popular development environments for Data Science"
   ]
  },
  {
   "cell_type": "markdown",
   "id": "119cdd43-689a-4570-8b60-5c991bc684af",
   "metadata": {},
   "source": [
    "Some of the popular languages that Data Scientists use are:\n",
    "1. Python\n",
    "2. R\n",
    "3. Julia\n",
    "4. Java"
   ]
  },
  {
   "cell_type": "markdown",
   "id": "3e5b2242-ebde-45b4-bfed-82b48c9565d3",
   "metadata": {
    "tags": []
   },
   "source": [
    "Some of the commonly used libraries used by Data Scientists include:\n",
    "1. Scikit-learn\n",
    "2. caret\n",
    "3. Keras\n",
    "4. Deeplearning4j"
   ]
  },
  {
   "cell_type": "markdown",
   "id": "d8e89f63-d759-4fcc-a7d1-e26300e02b1c",
   "metadata": {},
   "source": [
    "| Data Science Tools |\n",
    "| --- |\n",
    "| Jupyter Notebook |\n",
    "| JupyterLab |\n",
    "| Spyder |"
   ]
  },
  {
   "cell_type": "markdown",
   "id": "596390e5-856e-4c79-8971-7e30d50700fd",
   "metadata": {},
   "source": [
    "### Below are a few examples of evaluating arithmetic expressions in Python"
   ]
  },
  {
   "cell_type": "code",
   "execution_count": 6,
   "id": "cca96b79-3fb9-4df7-a36a-c33d60ca414a",
   "metadata": {
    "tags": []
   },
   "outputs": [
    {
     "data": {
      "text/plain": [
       "17"
      ]
     },
     "execution_count": 6,
     "metadata": {},
     "output_type": "execute_result"
    }
   ],
   "source": [
    "# This a simple arithmetic expression to mutiply then add integers\n",
    "(3*4)+5"
   ]
  },
  {
   "cell_type": "code",
   "execution_count": 7,
   "id": "a323f8a3-3d54-4680-8761-f61a51d627a8",
   "metadata": {
    "tags": []
   },
   "outputs": [
    {
     "data": {
      "text/plain": [
       "3.3333333333333335"
      ]
     },
     "execution_count": 7,
     "metadata": {},
     "output_type": "execute_result"
    }
   ],
   "source": [
    "# This will convert 200 minutes to hours by diving by 60\n",
    "200/60"
   ]
  },
  {
   "cell_type": "markdown",
   "id": "331dbce0-4823-4a63-9a1b-53c7ff93902a",
   "metadata": {},
   "source": [
    "## Author\n",
    "Vitalii Dotsenko"
   ]
  },
  {
   "cell_type": "code",
   "execution_count": null,
   "id": "b4a59a77-b51d-4201-ad87-19ff12d31aab",
   "metadata": {},
   "outputs": [],
   "source": []
  }
 ],
 "metadata": {
  "kernelspec": {
   "display_name": "Python",
   "language": "python",
   "name": "conda-env-python-py"
  },
  "language_info": {
   "codemirror_mode": {
    "name": "ipython",
    "version": 3
   },
   "file_extension": ".py",
   "mimetype": "text/x-python",
   "name": "python",
   "nbconvert_exporter": "python",
   "pygments_lexer": "ipython3",
   "version": "3.7.12"
  }
 },
 "nbformat": 4,
 "nbformat_minor": 5
}
